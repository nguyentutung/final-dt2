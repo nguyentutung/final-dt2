{
 "cells": [
  {
   "cell_type": "code",
   "execution_count": 69,
   "id": "6fac80a8",
   "metadata": {},
   "outputs": [],
   "source": [
    "import pandas as pd\n",
    "import matplotlib.pyplot as plt\n",
    "import numpy as np\n",
    "from matplotlib.ticker import ScalarFormatter\n",
    "from sklearn.model_selection import GridSearchCV\n",
    "\n",
    "from sklearn.linear_model import LogisticRegression\n",
    "from sklearn.neighbors import KNeighborsClassifier\n",
    "from sklearn.svm import SVC\n",
    "from sklearn.tree import DecisionTreeClassifier\n",
    "from sklearn.ensemble import RandomForestClassifier\n",
    "from sklearn.model_selection import train_test_split \n",
    "from sklearn.neighbors import KNeighborsClassifier\n",
    "from sklearn import metrics\n",
    "import matplotlib.pyplot as plt\n",
    "from sklearn.preprocessing import StandardScaler\n",
    "from sklearn.model_selection import KFold\n",
    "from sklearn.preprocessing import LabelEncoder\n",
    "import seaborn as sns\n",
    "from sklearn.decomposition import PCA"
   ]
  },
  {
   "cell_type": "code",
   "execution_count": 70,
   "id": "959616f4",
   "metadata": {},
   "outputs": [
    {
     "data": {
      "text/html": [
       "<div>\n",
       "<style scoped>\n",
       "    .dataframe tbody tr th:only-of-type {\n",
       "        vertical-align: middle;\n",
       "    }\n",
       "\n",
       "    .dataframe tbody tr th {\n",
       "        vertical-align: top;\n",
       "    }\n",
       "\n",
       "    .dataframe thead th {\n",
       "        text-align: right;\n",
       "    }\n",
       "</style>\n",
       "<table border=\"1\" class=\"dataframe\">\n",
       "  <thead>\n",
       "    <tr style=\"text-align: right;\">\n",
       "      <th></th>\n",
       "      <th>id</th>\n",
       "      <th>title</th>\n",
       "      <th>budget</th>\n",
       "      <th>revenue</th>\n",
       "      <th>runtime</th>\n",
       "      <th>year</th>\n",
       "      <th>genre</th>\n",
       "      <th>certification_US</th>\n",
       "      <th>vote_average</th>\n",
       "      <th>vote_count</th>\n",
       "      <th>country</th>\n",
       "    </tr>\n",
       "  </thead>\n",
       "  <tbody>\n",
       "    <tr>\n",
       "      <th>0</th>\n",
       "      <td>651</td>\n",
       "      <td>M*A*S*H</td>\n",
       "      <td>3500000</td>\n",
       "      <td>81600000</td>\n",
       "      <td>116.0</td>\n",
       "      <td>1970.0</td>\n",
       "      <td>Comedy</td>\n",
       "      <td>R</td>\n",
       "      <td>7.0</td>\n",
       "      <td>352</td>\n",
       "      <td>United States of America</td>\n",
       "    </tr>\n",
       "    <tr>\n",
       "      <th>1</th>\n",
       "      <td>11202</td>\n",
       "      <td>Patton</td>\n",
       "      <td>12000000</td>\n",
       "      <td>89800000</td>\n",
       "      <td>172.0</td>\n",
       "      <td>1970.0</td>\n",
       "      <td>Drama</td>\n",
       "      <td>PG</td>\n",
       "      <td>7.4</td>\n",
       "      <td>460</td>\n",
       "      <td>United States of America</td>\n",
       "    </tr>\n",
       "    <tr>\n",
       "      <th>2</th>\n",
       "      <td>11165</td>\n",
       "      <td>Tora! Tora! Tora!</td>\n",
       "      <td>25485000</td>\n",
       "      <td>29548291</td>\n",
       "      <td>144.0</td>\n",
       "      <td>1970.0</td>\n",
       "      <td>Drama</td>\n",
       "      <td>G</td>\n",
       "      <td>7.0</td>\n",
       "      <td>199</td>\n",
       "      <td>Japan</td>\n",
       "    </tr>\n",
       "    <tr>\n",
       "      <th>3</th>\n",
       "      <td>42345</td>\n",
       "      <td>The Molly Maguires</td>\n",
       "      <td>11000000</td>\n",
       "      <td>2200000</td>\n",
       "      <td>124.0</td>\n",
       "      <td>1970.0</td>\n",
       "      <td>Drama</td>\n",
       "      <td>PG</td>\n",
       "      <td>5.9</td>\n",
       "      <td>24</td>\n",
       "      <td>United States of America</td>\n",
       "    </tr>\n",
       "    <tr>\n",
       "      <th>4</th>\n",
       "      <td>33157</td>\n",
       "      <td>Waterloo</td>\n",
       "      <td>25000000</td>\n",
       "      <td>3052000</td>\n",
       "      <td>128.0</td>\n",
       "      <td>1970.0</td>\n",
       "      <td>History</td>\n",
       "      <td>NR</td>\n",
       "      <td>7.3</td>\n",
       "      <td>49</td>\n",
       "      <td>Italy</td>\n",
       "    </tr>\n",
       "    <tr>\n",
       "      <th>...</th>\n",
       "      <td>...</td>\n",
       "      <td>...</td>\n",
       "      <td>...</td>\n",
       "      <td>...</td>\n",
       "      <td>...</td>\n",
       "      <td>...</td>\n",
       "      <td>...</td>\n",
       "      <td>...</td>\n",
       "      <td>...</td>\n",
       "      <td>...</td>\n",
       "      <td>...</td>\n",
       "    </tr>\n",
       "    <tr>\n",
       "      <th>5122</th>\n",
       "      <td>474395</td>\n",
       "      <td>Teen Titans Go! To the Movies</td>\n",
       "      <td>10000000</td>\n",
       "      <td>28646544</td>\n",
       "      <td>84.0</td>\n",
       "      <td>2018.0</td>\n",
       "      <td>Family</td>\n",
       "      <td>PG</td>\n",
       "      <td>7.0</td>\n",
       "      <td>139</td>\n",
       "      <td>United States of America</td>\n",
       "    </tr>\n",
       "    <tr>\n",
       "      <th>5123</th>\n",
       "      <td>493551</td>\n",
       "      <td>Operation Finale</td>\n",
       "      <td>24000000</td>\n",
       "      <td>17506878</td>\n",
       "      <td>124.0</td>\n",
       "      <td>2018.0</td>\n",
       "      <td>Drama</td>\n",
       "      <td>PG-13</td>\n",
       "      <td>6.5</td>\n",
       "      <td>140</td>\n",
       "      <td>United States of America</td>\n",
       "    </tr>\n",
       "    <tr>\n",
       "      <th>5124</th>\n",
       "      <td>484247</td>\n",
       "      <td>A Simple Favor</td>\n",
       "      <td>20000000</td>\n",
       "      <td>87054892</td>\n",
       "      <td>117.0</td>\n",
       "      <td>2018.0</td>\n",
       "      <td>Thriller</td>\n",
       "      <td>R</td>\n",
       "      <td>6.5</td>\n",
       "      <td>363</td>\n",
       "      <td>United States of America</td>\n",
       "    </tr>\n",
       "    <tr>\n",
       "      <th>5125</th>\n",
       "      <td>220882</td>\n",
       "      <td>London Fields</td>\n",
       "      <td>8000000</td>\n",
       "      <td>116470</td>\n",
       "      <td>118.0</td>\n",
       "      <td>2018.0</td>\n",
       "      <td>Crime</td>\n",
       "      <td>R</td>\n",
       "      <td>5.9</td>\n",
       "      <td>16</td>\n",
       "      <td>United Kingdom</td>\n",
       "    </tr>\n",
       "    <tr>\n",
       "      <th>5126</th>\n",
       "      <td>514277</td>\n",
       "      <td>Mara</td>\n",
       "      <td>5000000</td>\n",
       "      <td>470901</td>\n",
       "      <td>100.0</td>\n",
       "      <td>2018.0</td>\n",
       "      <td>Crime</td>\n",
       "      <td>R</td>\n",
       "      <td>5.1</td>\n",
       "      <td>30</td>\n",
       "      <td>United Kingdom</td>\n",
       "    </tr>\n",
       "  </tbody>\n",
       "</table>\n",
       "<p>5127 rows × 11 columns</p>\n",
       "</div>"
      ],
      "text/plain": [
       "          id                          title    budget   revenue  runtime  \\\n",
       "0        651                        M*A*S*H   3500000  81600000    116.0   \n",
       "1      11202                         Patton  12000000  89800000    172.0   \n",
       "2      11165              Tora! Tora! Tora!  25485000  29548291    144.0   \n",
       "3      42345             The Molly Maguires  11000000   2200000    124.0   \n",
       "4      33157                       Waterloo  25000000   3052000    128.0   \n",
       "...      ...                            ...       ...       ...      ...   \n",
       "5122  474395  Teen Titans Go! To the Movies  10000000  28646544     84.0   \n",
       "5123  493551               Operation Finale  24000000  17506878    124.0   \n",
       "5124  484247                 A Simple Favor  20000000  87054892    117.0   \n",
       "5125  220882                  London Fields   8000000    116470    118.0   \n",
       "5126  514277                           Mara   5000000    470901    100.0   \n",
       "\n",
       "        year     genre certification_US  vote_average  vote_count  \\\n",
       "0     1970.0    Comedy                R           7.0         352   \n",
       "1     1970.0     Drama               PG           7.4         460   \n",
       "2     1970.0     Drama                G           7.0         199   \n",
       "3     1970.0     Drama               PG           5.9          24   \n",
       "4     1970.0   History               NR           7.3          49   \n",
       "...      ...       ...              ...           ...         ...   \n",
       "5122  2018.0    Family               PG           7.0         139   \n",
       "5123  2018.0     Drama            PG-13           6.5         140   \n",
       "5124  2018.0  Thriller                R           6.5         363   \n",
       "5125  2018.0     Crime                R           5.9          16   \n",
       "5126  2018.0     Crime                R           5.1          30   \n",
       "\n",
       "                       country  \n",
       "0     United States of America  \n",
       "1     United States of America  \n",
       "2                        Japan  \n",
       "3     United States of America  \n",
       "4                        Italy  \n",
       "...                        ...  \n",
       "5122  United States of America  \n",
       "5123  United States of America  \n",
       "5124  United States of America  \n",
       "5125            United Kingdom  \n",
       "5126            United Kingdom  \n",
       "\n",
       "[5127 rows x 11 columns]"
      ]
     },
     "execution_count": 70,
     "metadata": {},
     "output_type": "execute_result"
    }
   ],
   "source": [
    "df = pd.read_csv('moviesDs.csv')\n",
    "df"
   ]
  },
  {
   "cell_type": "code",
   "execution_count": 71,
   "id": "a3f3e9fa",
   "metadata": {},
   "outputs": [
    {
     "name": "stdout",
     "output_type": "stream",
     "text": [
      "<class 'pandas.core.frame.DataFrame'>\n",
      "RangeIndex: 5127 entries, 0 to 5126\n",
      "Data columns (total 11 columns):\n",
      " #   Column            Non-Null Count  Dtype  \n",
      "---  ------            --------------  -----  \n",
      " 0   id                5127 non-null   int64  \n",
      " 1   title             5127 non-null   object \n",
      " 2   budget            5127 non-null   int64  \n",
      " 3   revenue           5127 non-null   int64  \n",
      " 4   runtime           5127 non-null   float64\n",
      " 5   year              5127 non-null   float64\n",
      " 6   genre             5121 non-null   object \n",
      " 7   certification_US  5127 non-null   object \n",
      " 8   vote_average      5127 non-null   float64\n",
      " 9   vote_count        5127 non-null   int64  \n",
      " 10  country           5127 non-null   object \n",
      "dtypes: float64(3), int64(4), object(4)\n",
      "memory usage: 440.7+ KB\n"
     ]
    }
   ],
   "source": [
    "df.info()"
   ]
  },
  {
   "cell_type": "code",
   "execution_count": null,
   "id": "943b5039",
   "metadata": {},
   "outputs": [],
   "source": []
  },
  {
   "cell_type": "code",
   "execution_count": 72,
   "id": "f3d09055",
   "metadata": {},
   "outputs": [
    {
     "data": {
      "text/html": [
       "<div>\n",
       "<style scoped>\n",
       "    .dataframe tbody tr th:only-of-type {\n",
       "        vertical-align: middle;\n",
       "    }\n",
       "\n",
       "    .dataframe tbody tr th {\n",
       "        vertical-align: top;\n",
       "    }\n",
       "\n",
       "    .dataframe thead th {\n",
       "        text-align: right;\n",
       "    }\n",
       "</style>\n",
       "<table border=\"1\" class=\"dataframe\">\n",
       "  <thead>\n",
       "    <tr style=\"text-align: right;\">\n",
       "      <th></th>\n",
       "      <th>id</th>\n",
       "      <th>title</th>\n",
       "      <th>budget</th>\n",
       "      <th>revenue</th>\n",
       "      <th>runtime</th>\n",
       "      <th>year</th>\n",
       "      <th>genre</th>\n",
       "      <th>certification_US</th>\n",
       "      <th>vote_average</th>\n",
       "      <th>vote_count</th>\n",
       "      <th>country</th>\n",
       "    </tr>\n",
       "  </thead>\n",
       "  <tbody>\n",
       "    <tr>\n",
       "      <th>0</th>\n",
       "      <td>651</td>\n",
       "      <td>M*A*S*H</td>\n",
       "      <td>3500000</td>\n",
       "      <td>81600000</td>\n",
       "      <td>116.0</td>\n",
       "      <td>1970.0</td>\n",
       "      <td>Comedy</td>\n",
       "      <td>R</td>\n",
       "      <td>7.0</td>\n",
       "      <td>352</td>\n",
       "      <td>United States of America</td>\n",
       "    </tr>\n",
       "    <tr>\n",
       "      <th>1</th>\n",
       "      <td>11202</td>\n",
       "      <td>Patton</td>\n",
       "      <td>12000000</td>\n",
       "      <td>89800000</td>\n",
       "      <td>172.0</td>\n",
       "      <td>1970.0</td>\n",
       "      <td>Drama</td>\n",
       "      <td>PG</td>\n",
       "      <td>7.4</td>\n",
       "      <td>460</td>\n",
       "      <td>United States of America</td>\n",
       "    </tr>\n",
       "    <tr>\n",
       "      <th>2</th>\n",
       "      <td>11165</td>\n",
       "      <td>Tora! Tora! Tora!</td>\n",
       "      <td>25485000</td>\n",
       "      <td>29548291</td>\n",
       "      <td>144.0</td>\n",
       "      <td>1970.0</td>\n",
       "      <td>Drama</td>\n",
       "      <td>G</td>\n",
       "      <td>7.0</td>\n",
       "      <td>199</td>\n",
       "      <td>Japan</td>\n",
       "    </tr>\n",
       "    <tr>\n",
       "      <th>3</th>\n",
       "      <td>42345</td>\n",
       "      <td>The Molly Maguires</td>\n",
       "      <td>11000000</td>\n",
       "      <td>2200000</td>\n",
       "      <td>124.0</td>\n",
       "      <td>1970.0</td>\n",
       "      <td>Drama</td>\n",
       "      <td>PG</td>\n",
       "      <td>5.9</td>\n",
       "      <td>24</td>\n",
       "      <td>United States of America</td>\n",
       "    </tr>\n",
       "    <tr>\n",
       "      <th>4</th>\n",
       "      <td>33157</td>\n",
       "      <td>Waterloo</td>\n",
       "      <td>25000000</td>\n",
       "      <td>3052000</td>\n",
       "      <td>128.0</td>\n",
       "      <td>1970.0</td>\n",
       "      <td>History</td>\n",
       "      <td>NR</td>\n",
       "      <td>7.3</td>\n",
       "      <td>49</td>\n",
       "      <td>Italy</td>\n",
       "    </tr>\n",
       "  </tbody>\n",
       "</table>\n",
       "</div>"
      ],
      "text/plain": [
       "      id               title    budget   revenue  runtime    year    genre  \\\n",
       "0    651             M*A*S*H   3500000  81600000    116.0  1970.0   Comedy   \n",
       "1  11202              Patton  12000000  89800000    172.0  1970.0    Drama   \n",
       "2  11165   Tora! Tora! Tora!  25485000  29548291    144.0  1970.0    Drama   \n",
       "3  42345  The Molly Maguires  11000000   2200000    124.0  1970.0    Drama   \n",
       "4  33157            Waterloo  25000000   3052000    128.0  1970.0  History   \n",
       "\n",
       "  certification_US  vote_average  vote_count                   country  \n",
       "0                R           7.0         352  United States of America  \n",
       "1               PG           7.4         460  United States of America  \n",
       "2                G           7.0         199                     Japan  \n",
       "3               PG           5.9          24  United States of America  \n",
       "4               NR           7.3          49                     Italy  "
      ]
     },
     "execution_count": 72,
     "metadata": {},
     "output_type": "execute_result"
    }
   ],
   "source": [
    "df.head()"
   ]
  },
  {
   "cell_type": "code",
   "execution_count": 73,
   "id": "4678d83f",
   "metadata": {},
   "outputs": [
    {
     "data": {
      "text/plain": [
       "<AxesSubplot:xlabel='budget', ylabel='revenue'>"
      ]
     },
     "execution_count": 73,
     "metadata": {},
     "output_type": "execute_result"
    },
    {
     "data": {
      "text/plain": [
       "<Figure size 1080x648 with 0 Axes>"
      ]
     },
     "metadata": {},
     "output_type": "display_data"
    },
    {
     "data": {
      "image/png": "[encoded data removed]",
      "text/plain": [
       "<Figure size 432x288 with 1 Axes>"
      ]
     },
     "metadata": {
      "needs_background": "light"
     },
     "output_type": "display_data"
    }
   ],
   "source": [
    "plt.figure(figsize = (15,9))\n",
    "df.plot.scatter(x='budget', y= 'revenue', s=30, c= 'y')"
   ]
  },
  {
   "cell_type": "code",
   "execution_count": 74,
   "id": "4515a22e",
   "metadata": {},
   "outputs": [],
   "source": [
    "for index, row in df.iterrows():\n",
    "    try:\n",
    "        budget = df.at[index, 'budget']\n",
    "        revenue = df.at[index, 'revenue']\n",
    "        vote_average = df.at[index, 'vote_average']\n",
    "        if (revenue >= budget * 2)& (vote_average>5):\n",
    "            success = 1\n",
    "        else:\n",
    "            success = 0\n",
    "    except:     # if budget or revenue is empty\n",
    "        success = np.nan\n",
    "\n",
    "    df.at[index, 'success'] = success"
   ]
  },
  {
   "cell_type": "code",
   "execution_count": 75,
   "id": "60aef1a6",
   "metadata": {},
   "outputs": [],
   "source": [
    "ds = df.sort_values(by = 'vote_average')"
   ]
  },
  {
   "cell_type": "code",
   "execution_count": 76,
   "id": "d2d87fb5",
   "metadata": {},
   "outputs": [
    {
     "data": {
      "text/html": [
       "<div>\n",
       "<style scoped>\n",
       "    .dataframe tbody tr th:only-of-type {\n",
       "        vertical-align: middle;\n",
       "    }\n",
       "\n",
       "    .dataframe tbody tr th {\n",
       "        vertical-align: top;\n",
       "    }\n",
       "\n",
       "    .dataframe thead th {\n",
       "        text-align: right;\n",
       "    }\n",
       "</style>\n",
       "<table border=\"1\" class=\"dataframe\">\n",
       "  <thead>\n",
       "    <tr style=\"text-align: right;\">\n",
       "      <th></th>\n",
       "      <th>id</th>\n",
       "      <th>title</th>\n",
       "      <th>budget</th>\n",
       "      <th>revenue</th>\n",
       "      <th>runtime</th>\n",
       "      <th>year</th>\n",
       "      <th>genre</th>\n",
       "      <th>certification_US</th>\n",
       "      <th>vote_average</th>\n",
       "      <th>vote_count</th>\n",
       "      <th>country</th>\n",
       "      <th>success</th>\n",
       "    </tr>\n",
       "  </thead>\n",
       "  <tbody>\n",
       "    <tr>\n",
       "      <th>4437</th>\n",
       "      <td>330878</td>\n",
       "      <td>Kidnapping, Caucasian Style</td>\n",
       "      <td>3500000</td>\n",
       "      <td>179000</td>\n",
       "      <td>95.0</td>\n",
       "      <td>2014.0</td>\n",
       "      <td>Romance</td>\n",
       "      <td>NR</td>\n",
       "      <td>1.5</td>\n",
       "      <td>9</td>\n",
       "      <td>Russia</td>\n",
       "      <td>0.0</td>\n",
       "    </tr>\n",
       "    <tr>\n",
       "      <th>4315</th>\n",
       "      <td>295884</td>\n",
       "      <td>Saving Christmas</td>\n",
       "      <td>500000</td>\n",
       "      <td>2800000</td>\n",
       "      <td>79.0</td>\n",
       "      <td>2014.0</td>\n",
       "      <td>Comedy</td>\n",
       "      <td>PG</td>\n",
       "      <td>1.6</td>\n",
       "      <td>34</td>\n",
       "      <td>United States of America</td>\n",
       "      <td>0.0</td>\n",
       "    </tr>\n",
       "    <tr>\n",
       "      <th>3962</th>\n",
       "      <td>116977</td>\n",
       "      <td>Foodfight!</td>\n",
       "      <td>65000000</td>\n",
       "      <td>73706</td>\n",
       "      <td>87.0</td>\n",
       "      <td>2012.0</td>\n",
       "      <td>Animation</td>\n",
       "      <td>PG</td>\n",
       "      <td>2.1</td>\n",
       "      <td>35</td>\n",
       "      <td>United States of America</td>\n",
       "      <td>0.0</td>\n",
       "    </tr>\n",
       "    <tr>\n",
       "      <th>4383</th>\n",
       "      <td>272610</td>\n",
       "      <td>Black Rose</td>\n",
       "      <td>7000000</td>\n",
       "      <td>855450</td>\n",
       "      <td>83.0</td>\n",
       "      <td>2014.0</td>\n",
       "      <td>Drama</td>\n",
       "      <td>NR</td>\n",
       "      <td>2.3</td>\n",
       "      <td>9</td>\n",
       "      <td>Russia</td>\n",
       "      <td>0.0</td>\n",
       "    </tr>\n",
       "    <tr>\n",
       "      <th>2994</th>\n",
       "      <td>19623</td>\n",
       "      <td>Drona</td>\n",
       "      <td>15000000</td>\n",
       "      <td>3250000</td>\n",
       "      <td>150.0</td>\n",
       "      <td>2008.0</td>\n",
       "      <td>Action</td>\n",
       "      <td>NR</td>\n",
       "      <td>2.6</td>\n",
       "      <td>9</td>\n",
       "      <td>India</td>\n",
       "      <td>0.0</td>\n",
       "    </tr>\n",
       "  </tbody>\n",
       "</table>\n",
       "</div>"
      ],
      "text/plain": [
       "          id                        title    budget  revenue  runtime    year  \\\n",
       "4437  330878  Kidnapping, Caucasian Style   3500000   179000     95.0  2014.0   \n",
       "4315  295884             Saving Christmas    500000  2800000     79.0  2014.0   \n",
       "3962  116977                   Foodfight!  65000000    73706     87.0  2012.0   \n",
       "4383  272610                   Black Rose   7000000   855450     83.0  2014.0   \n",
       "2994   19623                        Drona  15000000  3250000    150.0  2008.0   \n",
       "\n",
       "          genre certification_US  vote_average  vote_count  \\\n",
       "4437    Romance               NR           1.5           9   \n",
       "4315     Comedy               PG           1.6          34   \n",
       "3962  Animation               PG           2.1          35   \n",
       "4383      Drama               NR           2.3           9   \n",
       "2994     Action               NR           2.6           9   \n",
       "\n",
       "                       country  success  \n",
       "4437                    Russia      0.0  \n",
       "4315  United States of America      0.0  \n",
       "3962  United States of America      0.0  \n",
       "4383                    Russia      0.0  \n",
       "2994                     India      0.0  "
      ]
     },
     "execution_count": 76,
     "metadata": {},
     "output_type": "execute_result"
    }
   ],
   "source": [
    "ds.head()"
   ]
  },
  {
   "cell_type": "code",
   "execution_count": 77,
   "id": "384a7fd3",
   "metadata": {},
   "outputs": [
    {
     "data": {
      "text/plain": [
       "United States of America    3164\n",
       "United Kingdom               353\n",
       "India                        269\n",
       "France                       227\n",
       "Canada                       208\n",
       "Germany                      176\n",
       "Australia                     97\n",
       "Russia                        87\n",
       "Japan                         65\n",
       "Spain                         53\n",
       "China                         50\n",
       "Italy                         49\n",
       "Belgium                       30\n",
       "Hong Kong                     29\n",
       "South Korea                   29\n",
       "Ireland                       28\n",
       "Denmark                       24\n",
       "Mexico                        24\n",
       "New Zealand                   15\n",
       "Netherlands                   14\n",
       "Sweden                        13\n",
       "Czech Republic                12\n",
       "Brazil                        11\n",
       "Argentina                     10\n",
       "Finland                        9\n",
       "Turkey                         9\n",
       "United Arab Emirates           8\n",
       "Norway                         8\n",
       "Switzerland                    8\n",
       "South Africa                   7\n",
       "Austria                        7\n",
       "Israel                         7\n",
       "Thailand                       6\n",
       "Philippines                    6\n",
       "Romania                        5\n",
       "Hungary                        5\n",
       "Singapore                      5\n",
       "Name: country, dtype: int64"
      ]
     },
     "execution_count": 77,
     "metadata": {},
     "output_type": "execute_result"
    }
   ],
   "source": [
    " ds[\"country\"].value_counts()"
   ]
  },
  {
   "cell_type": "code",
   "execution_count": 78,
   "id": "5aad8df0",
   "metadata": {},
   "outputs": [
    {
     "name": "stdout",
     "output_type": "stream",
     "text": [
      "<class 'pandas.core.frame.DataFrame'>\n",
      "Int64Index: 5127 entries, 4437 to 4928\n",
      "Data columns (total 12 columns):\n",
      " #   Column            Non-Null Count  Dtype  \n",
      "---  ------            --------------  -----  \n",
      " 0   id                5127 non-null   int64  \n",
      " 1   title             5127 non-null   object \n",
      " 2   budget            5127 non-null   int64  \n",
      " 3   revenue           5127 non-null   int64  \n",
      " 4   runtime           5127 non-null   float64\n",
      " 5   year              5127 non-null   float64\n",
      " 6   genre             5121 non-null   object \n",
      " 7   certification_US  5127 non-null   object \n",
      " 8   vote_average      5127 non-null   float64\n",
      " 9   vote_count        5127 non-null   int64  \n",
      " 10  country           5127 non-null   object \n",
      " 11  success           5127 non-null   float64\n",
      "dtypes: float64(4), int64(4), object(4)\n",
      "memory usage: 520.7+ KB\n"
     ]
    }
   ],
   "source": [
    "ds.info()"
   ]
  },
  {
   "cell_type": "code",
   "execution_count": 79,
   "id": "76f0945e",
   "metadata": {},
   "outputs": [],
   "source": [
    "x=ds.drop(['id','title','success'], axis=1)"
   ]
  },
  {
   "cell_type": "code",
   "execution_count": 80,
   "id": "53045ec9",
   "metadata": {},
   "outputs": [],
   "source": [
    "y=ds['success']"
   ]
  },
  {
   "cell_type": "code",
   "execution_count": 81,
   "id": "f20f7e37",
   "metadata": {},
   "outputs": [
    {
     "name": "stdout",
     "output_type": "stream",
     "text": [
      "<class 'pandas.core.frame.DataFrame'>\n",
      "Int64Index: 5127 entries, 4437 to 4928\n",
      "Data columns (total 9 columns):\n",
      " #   Column            Non-Null Count  Dtype  \n",
      "---  ------            --------------  -----  \n",
      " 0   budget            5127 non-null   int64  \n",
      " 1   revenue           5127 non-null   int64  \n",
      " 2   runtime           5127 non-null   float64\n",
      " 3   year              5127 non-null   float64\n",
      " 4   genre             5121 non-null   object \n",
      " 5   certification_US  5127 non-null   object \n",
      " 6   vote_average      5127 non-null   float64\n",
      " 7   vote_count        5127 non-null   int64  \n",
      " 8   country           5127 non-null   object \n",
      "dtypes: float64(3), int64(3), object(3)\n",
      "memory usage: 400.5+ KB\n"
     ]
    }
   ],
   "source": [
    "x.info()"
   ]
  },
  {
   "cell_type": "code",
   "execution_count": 82,
   "id": "39d0a7ac",
   "metadata": {},
   "outputs": [
    {
     "data": {
      "text/plain": [
       "'success'"
      ]
     },
     "execution_count": 82,
     "metadata": {},
     "output_type": "execute_result"
    }
   ],
   "source": [
    "y.name"
   ]
  },
  {
   "cell_type": "code",
   "execution_count": 83,
   "id": "ce6c98f8",
   "metadata": {},
   "outputs": [
    {
     "name": "stderr",
     "output_type": "stream",
     "text": [
      "C:\\ProgramData\\Anaconda3\\lib\\site-packages\\seaborn\\_decorators.py:36: FutureWarning: Pass the following variables as keyword args: x, y. From version 0.12, the only valid positional argument will be `data`, and passing other arguments without an explicit keyword will result in an error or misinterpretation.\n",
      "  warnings.warn(\n"
     ]
    },
    {
     "data": {
      "text/plain": [
       "<AxesSubplot:xlabel='budget', ylabel='revenue'>"
      ]
     },
     "execution_count": 83,
     "metadata": {},
     "output_type": "execute_result"
    },
    {
     "data": {
      "image/png": "[encoded data removed]",
      "text/plain": [
       "<Figure size 1080x648 with 1 Axes>"
      ]
     },
     "metadata": {
      "needs_background": "light"
     },
     "output_type": "display_data"
    }
   ],
   "source": [
    "plt.figure(figsize = (15,9))\n",
    "x_axis = ds['budget']\n",
    "y_axis = ds['revenue']\n",
    "sns.scatterplot(x_axis, y_axis, hue =ds['success'], s=30, cmap= 'rainbow')"
   ]
  },
  {
   "cell_type": "code",
   "execution_count": 84,
   "id": "eb34f9ba",
   "metadata": {},
   "outputs": [
    {
     "data": {
      "text/html": [
       "<div>\n",
       "<style scoped>\n",
       "    .dataframe tbody tr th:only-of-type {\n",
       "        vertical-align: middle;\n",
       "    }\n",
       "\n",
       "    .dataframe tbody tr th {\n",
       "        vertical-align: top;\n",
       "    }\n",
       "\n",
       "    .dataframe thead th {\n",
       "        text-align: right;\n",
       "    }\n",
       "</style>\n",
       "<table border=\"1\" class=\"dataframe\">\n",
       "  <thead>\n",
       "    <tr style=\"text-align: right;\">\n",
       "      <th></th>\n",
       "      <th>budget</th>\n",
       "      <th>revenue</th>\n",
       "      <th>runtime</th>\n",
       "      <th>year</th>\n",
       "      <th>vote_average</th>\n",
       "      <th>vote_count</th>\n",
       "      <th>genre1</th>\n",
       "      <th>country1</th>\n",
       "      <th>certification_US1</th>\n",
       "    </tr>\n",
       "  </thead>\n",
       "  <tbody>\n",
       "    <tr>\n",
       "      <th>4437</th>\n",
       "      <td>3500000</td>\n",
       "      <td>179000</td>\n",
       "      <td>95.0</td>\n",
       "      <td>2014.0</td>\n",
       "      <td>1.5</td>\n",
       "      <td>9</td>\n",
       "      <td>13</td>\n",
       "      <td>25</td>\n",
       "      <td>2</td>\n",
       "    </tr>\n",
       "    <tr>\n",
       "      <th>4315</th>\n",
       "      <td>500000</td>\n",
       "      <td>2800000</td>\n",
       "      <td>79.0</td>\n",
       "      <td>2014.0</td>\n",
       "      <td>1.6</td>\n",
       "      <td>34</td>\n",
       "      <td>3</td>\n",
       "      <td>36</td>\n",
       "      <td>3</td>\n",
       "    </tr>\n",
       "    <tr>\n",
       "      <th>3962</th>\n",
       "      <td>65000000</td>\n",
       "      <td>73706</td>\n",
       "      <td>87.0</td>\n",
       "      <td>2012.0</td>\n",
       "      <td>2.1</td>\n",
       "      <td>35</td>\n",
       "      <td>2</td>\n",
       "      <td>36</td>\n",
       "      <td>3</td>\n",
       "    </tr>\n",
       "    <tr>\n",
       "      <th>4383</th>\n",
       "      <td>7000000</td>\n",
       "      <td>855450</td>\n",
       "      <td>83.0</td>\n",
       "      <td>2014.0</td>\n",
       "      <td>2.3</td>\n",
       "      <td>9</td>\n",
       "      <td>6</td>\n",
       "      <td>25</td>\n",
       "      <td>2</td>\n",
       "    </tr>\n",
       "    <tr>\n",
       "      <th>2994</th>\n",
       "      <td>15000000</td>\n",
       "      <td>3250000</td>\n",
       "      <td>150.0</td>\n",
       "      <td>2008.0</td>\n",
       "      <td>2.6</td>\n",
       "      <td>9</td>\n",
       "      <td>0</td>\n",
       "      <td>14</td>\n",
       "      <td>2</td>\n",
       "    </tr>\n",
       "    <tr>\n",
       "      <th>...</th>\n",
       "      <td>...</td>\n",
       "      <td>...</td>\n",
       "      <td>...</td>\n",
       "      <td>...</td>\n",
       "      <td>...</td>\n",
       "      <td>...</td>\n",
       "      <td>...</td>\n",
       "      <td>...</td>\n",
       "      <td>...</td>\n",
       "    </tr>\n",
       "    <tr>\n",
       "      <th>44</th>\n",
       "      <td>6000000</td>\n",
       "      <td>245066411</td>\n",
       "      <td>175.0</td>\n",
       "      <td>1972.0</td>\n",
       "      <td>8.6</td>\n",
       "      <td>8784</td>\n",
       "      <td>6</td>\n",
       "      <td>36</td>\n",
       "      <td>5</td>\n",
       "    </tr>\n",
       "    <tr>\n",
       "      <th>2204</th>\n",
       "      <td>10000000</td>\n",
       "      <td>4069090</td>\n",
       "      <td>125.0</td>\n",
       "      <td>2003.0</td>\n",
       "      <td>8.6</td>\n",
       "      <td>17</td>\n",
       "      <td>6</td>\n",
       "      <td>5</td>\n",
       "      <td>4</td>\n",
       "    </tr>\n",
       "    <tr>\n",
       "      <th>352</th>\n",
       "      <td>1200000</td>\n",
       "      <td>4978922</td>\n",
       "      <td>88.0</td>\n",
       "      <td>1984.0</td>\n",
       "      <td>8.6</td>\n",
       "      <td>67</td>\n",
       "      <td>5</td>\n",
       "      <td>36</td>\n",
       "      <td>2</td>\n",
       "    </tr>\n",
       "    <tr>\n",
       "      <th>1096</th>\n",
       "      <td>25000000</td>\n",
       "      <td>28341469</td>\n",
       "      <td>142.0</td>\n",
       "      <td>1994.0</td>\n",
       "      <td>8.6</td>\n",
       "      <td>11498</td>\n",
       "      <td>6</td>\n",
       "      <td>36</td>\n",
       "      <td>5</td>\n",
       "    </tr>\n",
       "    <tr>\n",
       "      <th>4928</th>\n",
       "      <td>30000</td>\n",
       "      <td>200000000</td>\n",
       "      <td>97.0</td>\n",
       "      <td>2017.0</td>\n",
       "      <td>8.9</td>\n",
       "      <td>7</td>\n",
       "      <td>3</td>\n",
       "      <td>18</td>\n",
       "      <td>2</td>\n",
       "    </tr>\n",
       "  </tbody>\n",
       "</table>\n",
       "<p>5127 rows × 9 columns</p>\n",
       "</div>"
      ],
      "text/plain": [
       "        budget    revenue  runtime    year  vote_average  vote_count  genre1  \\\n",
       "4437   3500000     179000     95.0  2014.0           1.5           9      13   \n",
       "4315    500000    2800000     79.0  2014.0           1.6          34       3   \n",
       "3962  65000000      73706     87.0  2012.0           2.1          35       2   \n",
       "4383   7000000     855450     83.0  2014.0           2.3           9       6   \n",
       "2994  15000000    3250000    150.0  2008.0           2.6           9       0   \n",
       "...        ...        ...      ...     ...           ...         ...     ...   \n",
       "44     6000000  245066411    175.0  1972.0           8.6        8784       6   \n",
       "2204  10000000    4069090    125.0  2003.0           8.6          17       6   \n",
       "352    1200000    4978922     88.0  1984.0           8.6          67       5   \n",
       "1096  25000000   28341469    142.0  1994.0           8.6       11498       6   \n",
       "4928     30000  200000000     97.0  2017.0           8.9           7       3   \n",
       "\n",
       "      country1  certification_US1  \n",
       "4437        25                  2  \n",
       "4315        36                  3  \n",
       "3962        36                  3  \n",
       "4383        25                  2  \n",
       "2994        14                  2  \n",
       "...        ...                ...  \n",
       "44          36                  5  \n",
       "2204         5                  4  \n",
       "352         36                  2  \n",
       "1096        36                  5  \n",
       "4928        18                  2  \n",
       "\n",
       "[5127 rows x 9 columns]"
      ]
     },
     "execution_count": 84,
     "metadata": {},
     "output_type": "execute_result"
    }
   ],
   "source": [
    "genre = LabelEncoder()\n",
    "x['genre1'] = genre.fit_transform(x['genre'])\n",
    "x = x.drop(['genre'],axis=1)\n",
    "\n",
    "country = LabelEncoder()\n",
    "x['country1'] = country.fit_transform(x['country'])\n",
    "x = x.drop(['country'],axis=1)\n",
    "\n",
    "certification_US = LabelEncoder()\n",
    "x['certification_US1'] = certification_US.fit_transform(x['certification_US'])\n",
    "x = x.drop(['certification_US'],axis=1)\n",
    "x"
   ]
  },
  {
   "cell_type": "code",
   "execution_count": 113,
   "id": "ff1854c5",
   "metadata": {},
   "outputs": [],
   "source": [
    "X_train,X_test,y_train,y_test = train_test_split(x,y,test_size=0.2,random_state=4)\n",
    "k_range = range(1,15)\n",
    "scores = {}\n",
    "\n",
    "scores_list = []\n"
   ]
  },
  {
   "cell_type": "code",
   "execution_count": 114,
   "id": "90473d22",
   "metadata": {},
   "outputs": [],
   "source": [
    "for k in k_range:\n",
    "    knn = KNeighborsClassifier(n_neighbors=k)\n",
    "    knn.fit(X_train,y_train)\n",
    "    y_pred=knn.predict(X_test)\n",
    "    scores[k]=metrics.accuracy_score(y_test,y_pred)\n",
    "    scores_list.append(metrics.accuracy_score(y_test,y_pred))\n"
   ]
  },
  {
   "cell_type": "code",
   "execution_count": 115,
   "id": "dfc2044b",
   "metadata": {},
   "outputs": [
    {
     "data": {
      "text/plain": [
       "Text(0, 0.5, 'Testing Accuracy')"
      ]
     },
     "execution_count": 115,
     "metadata": {},
     "output_type": "execute_result"
    },
    {
     "data": {
      "image/png": "[encoded data removed]",
      "text/plain": [
       "<Figure size 432x288 with 1 Axes>"
      ]
     },
     "metadata": {
      "needs_background": "light"
     },
     "output_type": "display_data"
    }
   ],
   "source": [
    "plt.plot(k_range,scores_list)\n",
    "plt.xlabel('Value of k for kNN')\n",
    "plt.ylabel('Testing Accuracy')"
   ]
  },
  {
   "cell_type": "code",
   "execution_count": 88,
   "id": "69b4378f",
   "metadata": {},
   "outputs": [
    {
     "data": {
      "text/plain": [
       "0.9649122807017544"
      ]
     },
     "execution_count": 88,
     "metadata": {},
     "output_type": "execute_result"
    }
   ],
   "source": [
    "max_value = max(scores_list)\n",
    "max_value"
   ]
  },
  {
   "cell_type": "code",
   "execution_count": 116,
   "id": "d9615d35",
   "metadata": {},
   "outputs": [
    {
     "data": {
      "text/plain": [
       "0.9649122807017544"
      ]
     },
     "execution_count": 116,
     "metadata": {},
     "output_type": "execute_result"
    }
   ],
   "source": [
    "scores[11]"
   ]
  },
  {
   "cell_type": "code",
   "execution_count": 90,
   "id": "477ad667",
   "metadata": {},
   "outputs": [
    {
     "data": {
      "text/plain": [
       "KNeighborsClassifier(n_neighbors=8)"
      ]
     },
     "execution_count": 90,
     "metadata": {},
     "output_type": "execute_result"
    }
   ],
   "source": [
    "knn = KNeighborsClassifier(n_neighbors=8)\n",
    "knn.fit(x,y)"
   ]
  },
  {
   "cell_type": "code",
   "execution_count": 91,
   "id": "46a61ae6",
   "metadata": {},
   "outputs": [
    {
     "data": {
      "text/plain": [
       "array(['Russia', 'United States of America', 'India', 'Australia',\n",
       "       'Canada', 'Germany', 'Spain', 'United Kingdom', 'Switzerland',\n",
       "       'South Korea', 'Czech Republic', 'Italy', 'Netherlands', 'Japan',\n",
       "       'Sweden', 'Belgium', 'France', 'United Arab Emirates', 'Argentina',\n",
       "       'Thailand', 'Ireland', 'Brazil', 'New Zealand', 'South Africa',\n",
       "       'Finland', 'Romania', 'Hong Kong', 'Mexico', 'China', 'Norway',\n",
       "       'Philippines', 'Denmark', 'Hungary', 'Austria', 'Singapore',\n",
       "       'Turkey', 'Israel'], dtype=object)"
      ]
     },
     "execution_count": 91,
     "metadata": {},
     "output_type": "execute_result"
    }
   ],
   "source": [
    "ds.country.unique()"
   ]
  },
  {
   "cell_type": "code",
   "execution_count": 92,
   "id": "711e93f0",
   "metadata": {},
   "outputs": [
    {
     "data": {
      "text/plain": [
       "array(['NR', 'PG', 'R', 'PG-13', 'G', 'NC-17'], dtype=object)"
      ]
     },
     "execution_count": 92,
     "metadata": {},
     "output_type": "execute_result"
    }
   ],
   "source": [
    "ds.certification_US.unique()"
   ]
  },
  {
   "cell_type": "code",
   "execution_count": 93,
   "id": "042b8f9c",
   "metadata": {},
   "outputs": [
    {
     "data": {
      "text/plain": [
       "array(['Romance', 'Comedy', 'Animation', 'Drama', 'Action', 'Documentary',\n",
       "       'Thriller', nan, 'Horror', 'Crime', 'Adventure', 'Science Fiction',\n",
       "       'Fantasy', 'Mystery', 'Family', 'Music', 'Western', 'War',\n",
       "       'TV Movie', 'History'], dtype=object)"
      ]
     },
     "execution_count": 93,
     "metadata": {},
     "output_type": "execute_result"
    }
   ],
   "source": [
    "ds.genre.unique()"
   ]
  },
  {
   "cell_type": "code",
   "execution_count": 94,
   "id": "550bca03",
   "metadata": {},
   "outputs": [
    {
     "data": {
      "text/plain": [
       "array([10])"
      ]
     },
     "execution_count": 94,
     "metadata": {},
     "output_type": "execute_result"
    }
   ],
   "source": [
    "# Pick from 'Russia', 'United States of America', 'India', 'Australia',\n",
    "       #'Canada', 'Germany', 'Spain', 'United Kingdom', 'Switzerland',\n",
    "       #'South Korea', 'Czech Republic', 'Italy', 'Netherlands', 'Japan',\n",
    "       #'Sweden', 'Belgium', 'France', 'United Arab Emirates', 'Argentina',\n",
    "       #'Thailand', 'Ireland', 'Brazil', 'New Zealand', 'South Africa',\n",
    "       #'Finland', 'Romania', 'Hong Kong', 'Mexico', 'China', 'Norway',\n",
    "       #'Philippines', 'Denmark', 'Hungary', 'Austria', 'Singapore',\n",
    "       #'Turkey', 'Israel'\n",
    "country.transform(['France'])"
   ]
  },
  {
   "cell_type": "code",
   "execution_count": 95,
   "id": "7f35913e",
   "metadata": {},
   "outputs": [
    {
     "data": {
      "text/plain": [
       "array([2])"
      ]
     },
     "execution_count": 95,
     "metadata": {},
     "output_type": "execute_result"
    }
   ],
   "source": [
    "#Pick from 'NR', 'PG', 'R', 'PG-13', 'G', 'NC-17'\n",
    "certification_US.transform(['NR'])"
   ]
  },
  {
   "cell_type": "code",
   "execution_count": 96,
   "id": "81ec55d8",
   "metadata": {},
   "outputs": [
    {
     "data": {
      "text/plain": [
       "array([3])"
      ]
     },
     "execution_count": 96,
     "metadata": {},
     "output_type": "execute_result"
    }
   ],
   "source": [
    "# Pick from 'Romance', 'Comedy', 'Animation', 'Drama', 'Action', 'Documentary',\n",
    "       #'Thriller', nan, 'Horror', 'Crime', 'Adventure', 'Science Fiction',\n",
    "       #'Fantasy', 'Mystery', 'Family', 'Music', 'Western', 'War',\n",
    "       #'TV Movie', 'History'\n",
    "genre.transform(['Comedy'])"
   ]
  },
  {
   "cell_type": "code",
   "execution_count": null,
   "id": "7adb0f61",
   "metadata": {},
   "outputs": [],
   "source": []
  },
  {
   "cell_type": "code",
   "execution_count": 97,
   "id": "d9895713",
   "metadata": {},
   "outputs": [
    {
     "data": {
      "text/html": [
       "<div>\n",
       "<style scoped>\n",
       "    .dataframe tbody tr th:only-of-type {\n",
       "        vertical-align: middle;\n",
       "    }\n",
       "\n",
       "    .dataframe tbody tr th {\n",
       "        vertical-align: top;\n",
       "    }\n",
       "\n",
       "    .dataframe thead th {\n",
       "        text-align: right;\n",
       "    }\n",
       "</style>\n",
       "<table border=\"1\" class=\"dataframe\">\n",
       "  <thead>\n",
       "    <tr style=\"text-align: right;\">\n",
       "      <th></th>\n",
       "      <th>budget</th>\n",
       "      <th>revenue</th>\n",
       "      <th>runtime</th>\n",
       "      <th>year</th>\n",
       "      <th>vote_average</th>\n",
       "      <th>vote_count</th>\n",
       "      <th>genre1</th>\n",
       "      <th>country1</th>\n",
       "      <th>certification_US1</th>\n",
       "    </tr>\n",
       "  </thead>\n",
       "  <tbody>\n",
       "    <tr>\n",
       "      <th>0</th>\n",
       "      <td>3598902</td>\n",
       "      <td>4001919</td>\n",
       "      <td>108</td>\n",
       "      <td>2018</td>\n",
       "      <td>6.7</td>\n",
       "      <td>137</td>\n",
       "      <td>0</td>\n",
       "      <td>0</td>\n",
       "      <td>1</td>\n",
       "    </tr>\n",
       "    <tr>\n",
       "      <th>1</th>\n",
       "      <td>10000000</td>\n",
       "      <td>28646544</td>\n",
       "      <td>84</td>\n",
       "      <td>2018</td>\n",
       "      <td>7.0</td>\n",
       "      <td>139</td>\n",
       "      <td>3</td>\n",
       "      <td>2</td>\n",
       "      <td>0</td>\n",
       "    </tr>\n",
       "    <tr>\n",
       "      <th>2</th>\n",
       "      <td>24000000</td>\n",
       "      <td>17506878</td>\n",
       "      <td>124</td>\n",
       "      <td>2018</td>\n",
       "      <td>6.5</td>\n",
       "      <td>140</td>\n",
       "      <td>2</td>\n",
       "      <td>2</td>\n",
       "      <td>1</td>\n",
       "    </tr>\n",
       "    <tr>\n",
       "      <th>3</th>\n",
       "      <td>20000000</td>\n",
       "      <td>87054892</td>\n",
       "      <td>117</td>\n",
       "      <td>2018</td>\n",
       "      <td>6.5</td>\n",
       "      <td>363</td>\n",
       "      <td>5</td>\n",
       "      <td>2</td>\n",
       "      <td>2</td>\n",
       "    </tr>\n",
       "    <tr>\n",
       "      <th>4</th>\n",
       "      <td>8000000</td>\n",
       "      <td>116470</td>\n",
       "      <td>118</td>\n",
       "      <td>2018</td>\n",
       "      <td>5.9</td>\n",
       "      <td>16</td>\n",
       "      <td>1</td>\n",
       "      <td>1</td>\n",
       "      <td>2</td>\n",
       "    </tr>\n",
       "    <tr>\n",
       "      <th>5</th>\n",
       "      <td>5000000</td>\n",
       "      <td>470901</td>\n",
       "      <td>100</td>\n",
       "      <td>2018</td>\n",
       "      <td>5.1</td>\n",
       "      <td>30</td>\n",
       "      <td>1</td>\n",
       "      <td>1</td>\n",
       "      <td>2</td>\n",
       "    </tr>\n",
       "    <tr>\n",
       "      <th>6</th>\n",
       "      <td>5000000</td>\n",
       "      <td>10000000</td>\n",
       "      <td>99</td>\n",
       "      <td>2018</td>\n",
       "      <td>4.2</td>\n",
       "      <td>25</td>\n",
       "      <td>4</td>\n",
       "      <td>1</td>\n",
       "      <td>2</td>\n",
       "    </tr>\n",
       "  </tbody>\n",
       "</table>\n",
       "</div>"
      ],
      "text/plain": [
       "     budget   revenue  runtime  year  vote_average  vote_count  genre1  \\\n",
       "0   3598902   4001919      108  2018           6.7         137       0   \n",
       "1  10000000  28646544       84  2018           7.0         139       3   \n",
       "2  24000000  17506878      124  2018           6.5         140       2   \n",
       "3  20000000  87054892      117  2018           6.5         363       5   \n",
       "4   8000000    116470      118  2018           5.9          16       1   \n",
       "5   5000000    470901      100  2018           5.1          30       1   \n",
       "6   5000000  10000000       99  2018           4.2          25       4   \n",
       "\n",
       "   country1  certification_US1  \n",
       "0         0                  1  \n",
       "1         2                  0  \n",
       "2         2                  1  \n",
       "3         2                  2  \n",
       "4         1                  2  \n",
       "5         1                  2  \n",
       "6         1                  2  "
      ]
     },
     "execution_count": 97,
     "metadata": {},
     "output_type": "execute_result"
    }
   ],
   "source": [
    "\n",
    "dtf= pd.read_csv('tstset.csv')\n",
    "\n",
    "x_test = dtf.drop(['id','title'],axis=1)\n",
    "genre = LabelEncoder()\n",
    "x_test['genre1'] = genre.fit_transform(x_test['genre'])\n",
    "x_test = x_test.drop(['genre'],axis=1)\n",
    "\n",
    "country = LabelEncoder()\n",
    "x_test['country1'] = country.fit_transform(x_test['country'])\n",
    "x_test = x_test.drop(['country'],axis=1)\n",
    "\n",
    "certification_US = LabelEncoder()\n",
    "x_test['certification_US1'] = certification_US.fit_transform(x_test['certification_US'])\n",
    "x_test = x_test.drop(['certification_US'],axis=1)\n",
    "x_test"
   ]
  },
  {
   "cell_type": "code",
   "execution_count": 98,
   "id": "4415f132",
   "metadata": {},
   "outputs": [],
   "source": [
    "y_predict = knn.predict(x_test)\n",
    "result = pd.concat([dtf, pd.DataFrame(y_predict)], axis = 1)\n",
    "result.columns.values[-1:] = ['success']"
   ]
  },
  {
   "cell_type": "code",
   "execution_count": 99,
   "id": "2fb6d9d3",
   "metadata": {},
   "outputs": [
    {
     "data": {
      "text/html": [
       "<div>\n",
       "<style scoped>\n",
       "    .dataframe tbody tr th:only-of-type {\n",
       "        vertical-align: middle;\n",
       "    }\n",
       "\n",
       "    .dataframe tbody tr th {\n",
       "        vertical-align: top;\n",
       "    }\n",
       "\n",
       "    .dataframe thead th {\n",
       "        text-align: right;\n",
       "    }\n",
       "</style>\n",
       "<table border=\"1\" class=\"dataframe\">\n",
       "  <thead>\n",
       "    <tr style=\"text-align: right;\">\n",
       "      <th></th>\n",
       "      <th>id</th>\n",
       "      <th>title</th>\n",
       "      <th>budget</th>\n",
       "      <th>revenue</th>\n",
       "      <th>runtime</th>\n",
       "      <th>year</th>\n",
       "      <th>genre</th>\n",
       "      <th>certification_US</th>\n",
       "      <th>vote_average</th>\n",
       "      <th>vote_count</th>\n",
       "      <th>country</th>\n",
       "      <th>success</th>\n",
       "    </tr>\n",
       "  </thead>\n",
       "  <tbody>\n",
       "    <tr>\n",
       "      <th>0</th>\n",
       "      <td>1</td>\n",
       "      <td>Bleach</td>\n",
       "      <td>3598902</td>\n",
       "      <td>4001919</td>\n",
       "      <td>108</td>\n",
       "      <td>2018</td>\n",
       "      <td>Action</td>\n",
       "      <td>PG-13</td>\n",
       "      <td>6.7</td>\n",
       "      <td>137</td>\n",
       "      <td>Japan</td>\n",
       "      <td>0.0</td>\n",
       "    </tr>\n",
       "    <tr>\n",
       "      <th>1</th>\n",
       "      <td>2</td>\n",
       "      <td>Teen Titans Go! To the Movies</td>\n",
       "      <td>10000000</td>\n",
       "      <td>28646544</td>\n",
       "      <td>84</td>\n",
       "      <td>2018</td>\n",
       "      <td>Family</td>\n",
       "      <td>PG</td>\n",
       "      <td>7.0</td>\n",
       "      <td>139</td>\n",
       "      <td>United States of America</td>\n",
       "      <td>1.0</td>\n",
       "    </tr>\n",
       "    <tr>\n",
       "      <th>2</th>\n",
       "      <td>3</td>\n",
       "      <td>Operation Finale</td>\n",
       "      <td>24000000</td>\n",
       "      <td>17506878</td>\n",
       "      <td>124</td>\n",
       "      <td>2018</td>\n",
       "      <td>Drama</td>\n",
       "      <td>PG-13</td>\n",
       "      <td>6.5</td>\n",
       "      <td>140</td>\n",
       "      <td>United States of America</td>\n",
       "      <td>0.0</td>\n",
       "    </tr>\n",
       "    <tr>\n",
       "      <th>3</th>\n",
       "      <td>4</td>\n",
       "      <td>A Simple Favor</td>\n",
       "      <td>20000000</td>\n",
       "      <td>87054892</td>\n",
       "      <td>117</td>\n",
       "      <td>2018</td>\n",
       "      <td>Thriller</td>\n",
       "      <td>R</td>\n",
       "      <td>6.5</td>\n",
       "      <td>363</td>\n",
       "      <td>United States of America</td>\n",
       "      <td>1.0</td>\n",
       "    </tr>\n",
       "    <tr>\n",
       "      <th>4</th>\n",
       "      <td>5</td>\n",
       "      <td>London Fields</td>\n",
       "      <td>8000000</td>\n",
       "      <td>116470</td>\n",
       "      <td>118</td>\n",
       "      <td>2018</td>\n",
       "      <td>Crime</td>\n",
       "      <td>R</td>\n",
       "      <td>5.9</td>\n",
       "      <td>16</td>\n",
       "      <td>United Kingdom</td>\n",
       "      <td>0.0</td>\n",
       "    </tr>\n",
       "    <tr>\n",
       "      <th>5</th>\n",
       "      <td>6</td>\n",
       "      <td>Mara</td>\n",
       "      <td>5000000</td>\n",
       "      <td>470901</td>\n",
       "      <td>100</td>\n",
       "      <td>2018</td>\n",
       "      <td>Crime</td>\n",
       "      <td>R</td>\n",
       "      <td>5.1</td>\n",
       "      <td>30</td>\n",
       "      <td>United Kingdom</td>\n",
       "      <td>0.0</td>\n",
       "    </tr>\n",
       "    <tr>\n",
       "      <th>6</th>\n",
       "      <td>7</td>\n",
       "      <td>Random1</td>\n",
       "      <td>5000000</td>\n",
       "      <td>10000000</td>\n",
       "      <td>99</td>\n",
       "      <td>2018</td>\n",
       "      <td>Random</td>\n",
       "      <td>R</td>\n",
       "      <td>4.2</td>\n",
       "      <td>25</td>\n",
       "      <td>United Kingdom</td>\n",
       "      <td>0.0</td>\n",
       "    </tr>\n",
       "  </tbody>\n",
       "</table>\n",
       "</div>"
      ],
      "text/plain": [
       "   id                          title    budget   revenue  runtime  year  \\\n",
       "0   1                         Bleach   3598902   4001919      108  2018   \n",
       "1   2  Teen Titans Go! To the Movies  10000000  28646544       84  2018   \n",
       "2   3               Operation Finale  24000000  17506878      124  2018   \n",
       "3   4                 A Simple Favor  20000000  87054892      117  2018   \n",
       "4   5                  London Fields   8000000    116470      118  2018   \n",
       "5   6                           Mara   5000000    470901      100  2018   \n",
       "6   7                        Random1   5000000  10000000       99  2018   \n",
       "\n",
       "      genre certification_US  vote_average  vote_count  \\\n",
       "0    Action            PG-13           6.7         137   \n",
       "1    Family               PG           7.0         139   \n",
       "2     Drama            PG-13           6.5         140   \n",
       "3  Thriller                R           6.5         363   \n",
       "4     Crime                R           5.9          16   \n",
       "5     Crime                R           5.1          30   \n",
       "6    Random                R           4.2          25   \n",
       "\n",
       "                    country  success  \n",
       "0                     Japan      0.0  \n",
       "1  United States of America      1.0  \n",
       "2  United States of America      0.0  \n",
       "3  United States of America      1.0  \n",
       "4            United Kingdom      0.0  \n",
       "5            United Kingdom      0.0  \n",
       "6            United Kingdom      0.0  "
      ]
     },
     "execution_count": 99,
     "metadata": {},
     "output_type": "execute_result"
    }
   ],
   "source": [
    "result"
   ]
  },
  {
   "cell_type": "code",
   "execution_count": null,
   "id": "ac995027",
   "metadata": {},
   "outputs": [],
   "source": []
  },
  {
   "cell_type": "code",
   "execution_count": null,
   "id": "337d6726",
   "metadata": {},
   "outputs": [],
   "source": []
  }
 ],
 "metadata": {
  "kernelspec": {
   "display_name": "Python 3 (ipykernel)",
   "language": "python",
   "name": "python3"
  },
  "language_info": {
   "codemirror_mode": {
    "name": "ipython",
    "version": 3
   },
   "file_extension": ".py",
   "mimetype": "text/x-python",
   "name": "python",
   "nbconvert_exporter": "python",
   "pygments_lexer": "ipython3",
   "version": "3.9.7"
  }
 },
 "nbformat": 4,
 "nbformat_minor": 5
}
